{
 "cells": [
  {
   "cell_type": "markdown",
   "metadata": {},
   "source": [
    "# Band Importance\n",
    "\n",
    "## Goal\n",
    "\n",
    "The goal of the first experiment is to find the best combination of bands. We choose from all bands available in the Sentinel-2 [Level-2A](https://developers.google.com/earth-engine/datasets/catalog/COPERNICUS_S2_SR_HARMONIZED) product and all indices derived from those bands offered by the [eemont](https://github.com/davemlz/eemont) package.\n",
    "\n",
    "## Methodology\n",
    "\n",
    "The experiment is conducted as follows:\n",
    "\n",
    "- We create one composite raster per area with all potential bands is created by averaging across the year of recording.\n",
    "- Random Forest from scikit-learn with default parameters is chosen as the classification model.\n",
    "- Recursive Feature Elimination (RFE) is used to select the best 10 bands.\n",
    "\n",
    "We start with listing all available bands and indices:"
   ]
  },
  {
   "cell_type": "code",
   "execution_count": 1,
   "metadata": {},
   "outputs": [
    {
     "name": "stdout",
     "output_type": "stream",
     "text": [
      "All available Level-2A Bands: ['B1', 'B2', 'B3', 'B4', 'B5', 'B6', 'B7', 'B8', 'B8A', 'B9', 'B11', 'B12', 'AOT', 'WVP', 'SCL', 'TCI_R', 'TCI_G', 'TCI_B', 'MSK_CLDPRB', 'MSK_SNWPRB', 'QA10', 'QA20', 'QA60', 'MSK_CLASSI_OPAQUE', 'MSK_CLASSI_CIRRUS', 'MSK_CLASSI_SNOW_ICE']\n"
     ]
    }
   ],
   "source": [
    "# List all available Sentinel-2 Level-2A bands\n",
    "from logging import INFO\n",
    "from sys import stdout\n",
    "\n",
    "from loguru import logger\n",
    "\n",
    "from slc.data import list_bands\n",
    "\n",
    "logger.configure(handlers=[{\"sink\": stdout, \"format\": \"{message}\", \"level\": INFO}])\n",
    "\n",
    "bands = list_bands()\n",
    "\n",
    "logger.info(f\"All available Level-2A Bands: {bands}\")"
   ]
  },
  {
   "cell_type": "code",
   "execution_count": 2,
   "metadata": {},
   "outputs": [
    {
     "name": "stdout",
     "output_type": "stream",
     "text": [
      "All applicable indices offered by eemont: ['AFRI1600', 'AFRI2100', 'ANDWI', 'ARI', 'ARI2', 'ARVI', 'ATSAVI', 'AVI', 'AWEInsh', 'AWEIsh', 'BAI', 'BAIM', 'BAIS2', 'BCC', 'BI', 'BITM', 'BIXS', 'BLFEI', 'BNDVI', 'BRBA', 'BWDRVI', 'BaI', 'CIG', 'CIRE', 'CSI', 'CVI', 'DBSI', 'DSI', 'DSWI1', 'DSWI2', 'DSWI3', 'DSWI4', 'DSWI5', 'DVI', 'DVIplus', 'EMBI', 'EVI', 'EVI2', 'ExG', 'ExGR', 'ExR', 'FCVI', 'GARI', 'GBNDVI', 'GCC', 'GDVI', 'GEMI', 'GLI', 'GM1', 'GM2', 'GNDVI', 'GOSAVI', 'GRNDVI', 'GRVI', 'GSAVI', 'GVMI', 'IAVI', 'IBI', 'IKAW', 'IPVI', 'IRECI', 'LSWI', 'MBI', 'MBWI', 'MCARI', 'MCARI1', 'MCARI2', 'MCARI705', 'MCARIOSAVI', 'MCARIOSAVI705', 'MGRVI', 'MIRBI', 'MLSWI26', 'MLSWI27', 'MNDVI', 'MNDWI', 'MNLI', 'MRBVI', 'MSAVI', 'MSI', 'MSR', 'MSR705', 'MTCI', 'MTVI1', 'MTVI2', 'MuWIR', 'NBAI', 'NBR', 'NBR2', 'NBRSWIR', 'NBRplus', 'NBSIMS', 'ND705', 'NDBI', 'NDCI', 'NDDI', 'NDGI', 'NDGlaI', 'NDII', 'NDMI', 'NDPI', 'NDPonI', 'NDREI', 'NDSI', 'NDSII', 'NDSInw', 'NDSWIR', 'NDSaII', 'NDSoI', 'NDTI', 'NDVI', 'NDVI705', 'NDVIMNDWI', 'NDWI', 'NDWIns', 'NDYI', 'NGRDI', 'NHFD', 'NIRv', 'NIRvH2', 'NLI', 'NMDI', 'NRFIg', 'NRFIr', 'NSDS', 'NSDSI1', 'NSDSI2', 'NSDSI3', 'NWI', 'NormG', 'NormNIR', 'NormR', 'OCVI', 'OSAVI', 'PISI', 'PSRI', 'RCC', 'RDVI', 'REDSI', 'RENDVI', 'RGBVI', 'RGRI', 'RI', 'RI4XS', 'RVI', 'S2REP', 'S2WI', 'S3', 'SARVI', 'SAVI', 'SAVI2', 'SEVI', 'SI', 'SIPI', 'SR', 'SR2', 'SR3', 'SR555', 'SR705', 'SWI', 'SWM', 'SeLI', 'TCARI', 'TCARIOSAVI', 'TCARIOSAVI705', 'TCI', 'TDVI', 'TGI', 'TRRVI', 'TSAVI', 'TTVI', 'TVI', 'TriVI', 'UI', 'VARI', 'VARI700', 'VI700', 'VIBI', 'VIG', 'VgNIRBI', 'VrNIRBI', 'WDRVI', 'WDVI', 'WI1', 'WI2', 'WI2015', 'WRI', 'kEVI', 'kIPVI', 'kNDVI', 'kRVI', 'kVARI', 'mND705', 'mSR705']\n"
     ]
    }
   ],
   "source": [
    "# List all available indices offered by eemont\n",
    "from slc.data import list_indices\n",
    "\n",
    "indices = list_indices()\n",
    "\n",
    "logger.info(f\"All applicable indices offered by eemont: {indices}\")"
   ]
  },
  {
   "cell_type": "markdown",
   "metadata": {},
   "source": [
    "The Sentinel 2 data corresponding to the target labels is generated using the Google Earth Engine. The data is filtered by the boundaries of each area and a 1 year time range for the sample year per study area. The data is then reduced temporally by averaging and spatially by matching the spatial resolution of the ground truth data and exported to GeoTIFF files.\n",
    "\n",
    "We create one raster per study area with all potential bands and indices by averaging across the year of recording:"
   ]
  },
  {
   "cell_type": "code",
   "execution_count": 3,
   "metadata": {},
   "outputs": [
    {
     "data": {
      "application/vnd.jupyter.widget-view+json": {
       "model_id": "2d159f762d0c4625b9bc41b7389adb3e",
       "version_major": 2,
       "version_minor": 0
      },
      "text/plain": [
       "  0%|          | 0/48 [00:00<?, ?it/s]"
      ]
     },
     "metadata": {},
     "output_type": "display_data"
    }
   ],
   "source": [
    "# Create a composite from a Sentinel image with all available bands and indices\n",
    "from datetime import datetime\n",
    "from pathlib import Path\n",
    "from zoneinfo import ZoneInfo\n",
    "\n",
    "import rasterio\n",
    "from tqdm.notebook import tqdm\n",
    "\n",
    "from slc.data import sentinel_composite\n",
    "\n",
    "tz = ZoneInfo(\"CET\")\n",
    "\n",
    "# Define the label path as well as the path to write the raster to\n",
    "target_folder = Path(\"../data/processed/target/\")\n",
    "data_folder = Path(\"../data/processed/band_importance/data/\")\n",
    "\n",
    "# Create the 2A composite if it does not exist\n",
    "data_folder.mkdir(parents=True, exist_ok=True)\n",
    "for target_path in tqdm(tuple(target_folder.glob(\"*.tif\"))):\n",
    "    data_path = data_folder / target_path.name\n",
    "    year = int(target_path.stem.split(\"_\")[-1])\n",
    "\n",
    "    if not data_path.exists():\n",
    "        try:\n",
    "            sentinel_composite(\n",
    "                target_path_from=target_path,\n",
    "                data_path_to=data_path,\n",
    "                time_window=(\n",
    "                    datetime(year, 1, 1, tzinfo=tz),\n",
    "                    datetime(year + 1, 1, 1, tzinfo=tz),\n",
    "                ),\n",
    "                sentinel_bands=bands,\n",
    "                indices=indices,\n",
    "            )\n",
    "        except KeyboardInterrupt as exc:\n",
    "            raise KeyboardInterrupt from exc\n",
    "        except Exception:  # noqa: BLE001\n",
    "            # Download composite in two steps if it fails\n",
    "            sentinel_composite(\n",
    "                target_path_from=target_path,\n",
    "                data_path_to=\"tmp.tif\",\n",
    "                time_window=(\n",
    "                    datetime(year, 1, 1, tzinfo=tz),\n",
    "                    datetime(year + 1, 1, 1, tzinfo=tz),\n",
    "                ),\n",
    "                sentinel_bands=bands,\n",
    "                indices=indices[: len(indices) // 2],\n",
    "            )\n",
    "\n",
    "            sentinel_composite(\n",
    "                target_path_from=target_path,\n",
    "                data_path_to=\"tmp2.tif\",\n",
    "                time_window=(\n",
    "                    datetime(year, 1, 1, tzinfo=tz),\n",
    "                    datetime(year + 1, 1, 1, tzinfo=tz),\n",
    "                ),\n",
    "                sentinel_bands=[],\n",
    "                indices=indices[len(indices) // 2 :],\n",
    "            )\n",
    "\n",
    "            with rasterio.open(\"tmp.tif\") as src1, rasterio.open(\"tmp2.tif\") as src2:\n",
    "                profile = src1.profile\n",
    "                profile.update(count=src1.count + src2.count)\n",
    "                descriptions = src1.descriptions + src2.descriptions\n",
    "                with rasterio.open(data_path, \"w\", **profile) as dst:\n",
    "                    for i in range(1, src1.count + 1):\n",
    "                        dst.write(src1.read(i), i)\n",
    "                    for i in range(1, src2.count + 1):\n",
    "                        dst.write(src2.read(i), src1.count + i)\n",
    "\n",
    "                    dst.descriptions = descriptions\n",
    "\n",
    "            Path(\"tmp.tif\").unlink()\n",
    "            Path(\"tmp2.tif\").unlink()\n",
    "\n",
    "            logger.debug(f\"Created composite in two steps for {target_path}\")"
   ]
  },
  {
   "cell_type": "markdown",
   "metadata": {},
   "source": [
    "The whole dataset is loaded, consisting of the target rasters created in the previous step and the Sentinel-2 bands and indices composited above. We perform recursive feature elimination to select the 10 best bands and indices. Each RFE iteration is evaluated using stratified 5-fold cross-validation:"
   ]
  },
  {
   "cell_type": "code",
   "execution_count": 4,
   "metadata": {},
   "outputs": [],
   "source": [
    "# Compute the scores for each step of the RFE\n",
    "import pandas as pd\n",
    "from sklearn.ensemble import RandomForestClassifier\n",
    "from sklearn.feature_selection import RFE\n",
    "from sklearn.metrics import accuracy_score, f1_score, make_scorer\n",
    "from sklearn.model_selection import StratifiedKFold, cross_validate\n",
    "from tqdm.notebook import tqdm\n",
    "\n",
    "from slc.data import split_band_name\n",
    "from slc.features import load_dataset\n",
    "\n",
    "# Check if the report is already available\n",
    "band_importance_path = \"../reports/band_importance.csv\"\n",
    "if not Path(band_importance_path).exists():\n",
    "    Path(band_importance_path).parent.mkdir(parents=True, exist_ok=True)\n",
    "\n",
    "    # Load the dataset\n",
    "    data, target = load_dataset(data_folder, target_folder)\n",
    "\n",
    "    # Create the RFE object and rank each pixel\n",
    "    rf = RandomForestClassifier(n_jobs=-1, random_state=42)\n",
    "    rfe = RFE(estimator=rf, n_features_to_select=1, step=1, verbose=1)\n",
    "    rfe.fit(data, target)\n",
    "\n",
    "    # Define the scoring metrics\n",
    "    scoring = {\n",
    "        \"F1 Score\": make_scorer(f1_score),\n",
    "        \"Accuracy\": make_scorer(accuracy_score),\n",
    "    }\n",
    "\n",
    "    # Get the features in reverse order of elimination\n",
    "    ranking = rfe.ranking_\n",
    "    feature_names = rfe.feature_names_in_\n",
    "    order_index = ranking.argsort()\n",
    "    ordered_features = feature_names[order_index]\n",
    "\n",
    "    # Compute the score for each step of the RFE\n",
    "    score_df = pd.DataFrame(columns=scoring.keys())\n",
    "    for i in tqdm(range(ordered_features.shape[0])):\n",
    "        # Fit the model with the current features\n",
    "        curr_data = data[ordered_features[: i + 1]]\n",
    "        cv = StratifiedKFold(n_splits=5, shuffle=True, random_state=42)\n",
    "        scores = cross_validate(\n",
    "            rf, curr_data, target, cv=cv, scoring=scoring, n_jobs=-1\n",
    "        )\n",
    "\n",
    "        # Store the score in the dataframe\n",
    "        band_label = split_band_name(ordered_features[i])[1]\n",
    "        score_df.loc[band_label] = [scores[f\"test_{key}\"].mean() for key in scoring]\n",
    "\n",
    "    # Save the scores to a CSV file\n",
    "    score_df.to_csv(band_importance_path, index_label=\"Band\")\n",
    "    score_df.index.name = \"Band\"\n",
    "else:\n",
    "    # Load the scores from the CSV file\n",
    "    score_df = pd.read_csv(band_importance_path, index_col=0)"
   ]
  },
  {
   "cell_type": "code",
   "execution_count": 13,
   "metadata": {},
   "outputs": [
    {
     "data": {
      "image/png": "[encoded data removed]",
      "text/plain": [
       "<Figure size 350x262.5 with 1 Axes>"
      ]
     },
     "metadata": {},
     "output_type": "display_data"
    }
   ],
   "source": [
    "# Plot the RFE scores for n bands\n",
    "import matplotlib.pyplot as plt\n",
    "import scienceplots  # noqa: F401\n",
    "\n",
    "# Use science style for plots\n",
    "plt.style.use(\"science\")\n",
    "\n",
    "# Plot RFE scores\n",
    "fig, ax = plt.subplots()\n",
    "score_df[\"Index\"] = range(1, score_df.shape[0] + 1)\n",
    "score_df.plot(x=\"Index\", y=\"Accuracy\", label=\"Accuracy\", ax=ax)\n",
    "score_df.plot(x=\"Index\", y=\"F1 Score\", label=\"F1 Score\", ax=ax)\n",
    "ax.axvline(10, color=\"red\", linestyle=\"--\", label=\"Top 10 Features\")\n",
    "\n",
    "# Format the plot\n",
    "ax.set_title(\"Recursive Feature Elimination\")\n",
    "ax.set_xlabel(\"Number of Features\")\n",
    "ax.set_ylabel(\"Score\")\n",
    "ax.legend()\n",
    "\n",
    "plt.show()"
   ]
  },
  {
   "cell_type": "markdown",
   "metadata": {},
   "source": [
    "## Result\n",
    "\n",
    "The F1 Score and Accuracy do not improve significantly when keeping more than 10 bands, see the plot above. Additionally we generally want to keep the number of bands as low as possible to reduce the complexity of data retrieval and processing. Thus we choose following 10 best bands and indices for subsequent experiments:"
   ]
  },
  {
   "cell_type": "code",
   "execution_count": 6,
   "metadata": {},
   "outputs": [
    {
     "name": "stdout",
     "output_type": "stream",
     "text": [
      "Level-2A bands: ['B11']\n",
      "Indices: ['BRBA', 'GDVI', 'IKAW', 'MBWI', 'MIRBI', 'MLSWI26', 'NBRplus', 'NMDI', 'SWI']\n"
     ]
    }
   ],
   "source": [
    "# List all selected bands and indices\n",
    "from slc.models import bands_from_importance\n",
    "\n",
    "sentinel_bands, index_bands = bands_from_importance(band_importance_path, top_n=10)\n",
    "\n",
    "logger.info(f\"Level-2A bands: {sentinel_bands}\")\n",
    "logger.info(f\"Indices: {index_bands}\")"
   ]
  },
  {
   "cell_type": "code",
   "execution_count": 7,
   "metadata": {},
   "outputs": [
    {
     "data": {
      "image/png": "[encoded data removed]",
      "text/plain": [
       "<Figure size 581x300 with 3 Axes>"
      ]
     },
     "metadata": {},
     "output_type": "display_data"
    }
   ],
   "source": [
    "from slc.data import split_band_name\n",
    "from slc.features import (\n",
    "    get_similarity_matrix,\n",
    "    load_dataset,\n",
    "    show_dendrogram,\n",
    "    show_similarity_matrix,\n",
    ")\n",
    "from slc.visualize import label_subplots, save_fig\n",
    "\n",
    "data, target = load_dataset(data_folder, target_folder)\n",
    "bands = [\n",
    "    band\n",
    "    for band in data.columns\n",
    "    if split_band_name(band)[1] in sentinel_bands + index_bands\n",
    "]\n",
    "data = data[bands]\n",
    "data.columns = [split_band_name(band)[1] for band in data.columns]\n",
    "\n",
    "fig, axs = plt.subplots(ncols=2, figsize=(5.81, 3), constrained_layout=True)\n",
    "sm = get_similarity_matrix(data)\n",
    "show_similarity_matrix(sm, ax=axs[0])\n",
    "show_dendrogram(sm, ax=axs[1])\n",
    "\n",
    "axs[0].tick_params(axis=\"both\", which=\"both\", length=0)\n",
    "axs[1].tick_params(axis=\"x\", which=\"both\", length=0)\n",
    "\n",
    "label_subplots(axs, y_offset=0.625)\n",
    "\n",
    "save_fig(fig, \"../reports/figures/band_importance/Similarity Matrix And Dendrogram.pdf\")"
   ]
  },
  {
   "cell_type": "markdown",
   "metadata": {},
   "source": [
    "The similarity matrix and dendrogram for the top 10 selected bands and indices reveal minimal correlation between most of them. This indicates that each band captures unique information, contributing to a more diverse and information rich dataset."
   ]
  }
 ],
 "metadata": {
  "kernelspec": {
   "display_name": "slc",
   "language": "python",
   "name": "python3"
  },
  "language_info": {
   "codemirror_mode": {
    "name": "ipython",
    "version": 3
   },
   "file_extension": ".py",
   "mimetype": "text/x-python",
   "name": "python",
   "nbconvert_exporter": "python",
   "pygments_lexer": "ipython3",
   "version": "3.13.1"
  }
 },
 "nbformat": 4,
 "nbformat_minor": 2
}
